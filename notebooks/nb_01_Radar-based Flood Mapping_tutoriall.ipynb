{
 "cells": [
  {
   "cell_type": "markdown",
   "id": "117c1e1b",
   "metadata": {},
   "source": [
    "# https://github.com/UN-SPIDER/radar-based-flood-mapping/blob/main/radar-based-flood-mapping.ipynb\n",
    "Tutorial de mapeo de inundaciones usando imagenes radar"
   ]
  },
  {
   "cell_type": "markdown",
   "id": "af2588d5",
   "metadata": {},
   "source": [
    "# polarisations to be processed\n",
    "polarisations = 'VH'                              # 'VH', 'VV', 'both'\n",
    "\n",
    "# download image from Copernicus Open Access Hub\n",
    "download = {\n",
    "    'imageDownload'     : True,                   # 'True', 'False'\n",
    "    'period_start'      : [2025, 1, 1],           # format: [Year, Month, Day]\n",
    "    'period_stop'       : [202, 1, 8],           # format: [Year, Month, Day]\n",
    "    'username'          : 'username',             # username for login\n",
    "    'password'          : 'password'              # password for login\n",
    "}\n",
    "\n",
    "# show intermediate results if set to 'True'\n",
    "plotResoluts = True "
   ]
  },
  {
   "cell_type": "code",
   "execution_count": null,
   "id": "7f95837c",
   "metadata": {
    "vscode": {
     "languageId": "plaintext"
    }
   },
   "outputs": [],
   "source": []
  },
  {
   "cell_type": "code",
   "execution_count": null,
   "id": "f9bf227a",
   "metadata": {
    "vscode": {
     "languageId": "plaintext"
    }
   },
   "outputs": [],
   "source": []
  },
  {
   "cell_type": "code",
   "execution_count": null,
   "id": "38ccde17",
   "metadata": {
    "vscode": {
     "languageId": "plaintext"
    }
   },
   "outputs": [],
   "source": []
  },
  {
   "cell_type": "code",
   "execution_count": null,
   "id": "38050b2b",
   "metadata": {
    "vscode": {
     "languageId": "plaintext"
    }
   },
   "outputs": [],
   "source": []
  }
 ],
 "metadata": {
  "language_info": {
   "name": "python"
  }
 },
 "nbformat": 4,
 "nbformat_minor": 5
}
